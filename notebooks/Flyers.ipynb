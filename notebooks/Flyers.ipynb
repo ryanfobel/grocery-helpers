{
 "cells": [
  {
   "cell_type": "markdown",
   "metadata": {},
   "source": [
    "# Download weekly flyers, watch for sales, etc.\n",
    "\n",
    "* [Sale Whale](https://www.salewhale.ca/): sale alerts, price matching, recipes, etc.\n",
    "* [Flipp](https://flipp.com): digital flyers\n",
    "  * https://stackoverflow.com/a/48501414/13131384"
   ]
  },
  {
   "cell_type": "markdown",
   "metadata": {},
   "source": [
    "# Download flyers from a list of grocery retailers"
   ]
  },
  {
   "cell_type": "code",
   "execution_count": null,
   "metadata": {},
   "outputs": [],
   "source": [
    "import os\n",
    "\n",
    "from grocery_helpers import get_flyers\n",
    "\n",
    "data_directory = os.path.join('..', 'data')\n",
    "postal_code = 'N2H5M5'\n",
    "merchants = ['Real Canadian Superstore', 'Zehrs', 'Valu-Mart', 'Wholesale Club and Club Entrepôt', 'Walmart']\n",
    "\n",
    "flyers = []\n",
    "for merchant in merchants:\n",
    "    flyers += get_flyers(merchant, postal_code, data_directory)\n",
    "    \n",
    "flyers[0].head()"
   ]
  }
 ],
 "metadata": {
  "kernelspec": {
   "display_name": "Python 3",
   "language": "python",
   "name": "python3"
  },
  "language_info": {
   "codemirror_mode": {
    "name": "ipython",
    "version": 3
   },
   "file_extension": ".py",
   "mimetype": "text/x-python",
   "name": "python",
   "nbconvert_exporter": "python",
   "pygments_lexer": "ipython3",
   "version": "3.7.6"
  }
 },
 "nbformat": 4,
 "nbformat_minor": 4
}
