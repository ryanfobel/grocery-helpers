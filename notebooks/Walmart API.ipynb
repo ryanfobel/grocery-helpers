{
 "cells": [
  {
   "cell_type": "markdown",
   "metadata": {},
   "source": [
    "# WalmartAPI\n",
    "\n",
    "Selenium-based API for the Walmart Canada\n",
    "\n",
    "## To do\n",
    "\n",
    "* [ ] write README\n",
    "* [ ] throw/handle Timeout and NoSearchResults exceptions\n",
    "* [ ] docstrings\n",
    "* [ ] unit tests\n",
    "* [ ] packaging"
   ]
  },
  {
   "cell_type": "code",
   "execution_count": 60,
   "metadata": {},
   "outputs": [
    {
     "name": "stdout",
     "output_type": "stream",
     "text": [
      "The autoreload extension is already loaded. To reload it, use:\n",
      "  %reload_ext autoreload\n"
     ]
    }
   ],
   "source": [
    "%load_ext autoreload\n",
    "%autoreload 2\n",
    "\n",
    "import os\n",
    "\n",
    "# Add src directory to python path\n",
    "import sys\n",
    "sys.path.insert(0, os.path.join('..', 'src'))\n",
    "from grocery_helpers import WalmartAPI\n",
    "\n",
    "# Create an instance of the API.\n",
    "#\n",
    "# Passing in the user_data_dir maintains authentication between sessions.\n",
    "\n",
    "api = WalmartAPI(user_data_dir='C:/Users/%s/AppData/Local/Google/Chrome/User Data/Profile 1' % os.environ['USERNAME'],\n",
    "                 data_directory=os.path.join('..', 'data'))"
   ]
  },
  {
   "cell_type": "markdown",
   "metadata": {},
   "source": [
    "# Search for 'tomato' products"
   ]
  },
  {
   "cell_type": "code",
   "execution_count": 61,
   "metadata": {},
   "outputs": [
    {
     "data": {
      "text/html": [
       "<div>\n",
       "<style scoped>\n",
       "    .dataframe tbody tr th:only-of-type {\n",
       "        vertical-align: middle;\n",
       "    }\n",
       "\n",
       "    .dataframe tbody tr th {\n",
       "        vertical-align: top;\n",
       "    }\n",
       "\n",
       "    .dataframe thead th {\n",
       "        text-align: right;\n",
       "    }\n",
       "</style>\n",
       "<table border=\"1\" class=\"dataframe\">\n",
       "  <thead>\n",
       "    <tr style=\"text-align: right;\">\n",
       "      <th></th>\n",
       "      <th>sku</th>\n",
       "      <th>title</th>\n",
       "      <th>description</th>\n",
       "      <th>unit_price</th>\n",
       "      <th>price</th>\n",
       "      <th>link</th>\n",
       "    </tr>\n",
       "  </thead>\n",
       "  <tbody>\n",
       "    <tr>\n",
       "      <th>0</th>\n",
       "      <td>6000191272055</td>\n",
       "      <td>Tomato, Roma</td>\n",
       "      <td>Sold in singles</td>\n",
       "      <td>$6.57/kg</td>\n",
       "      <td>0.94</td>\n",
       "      <td>https://www.walmart.ca/en/ip/tomato-roma/60001...</td>\n",
       "    </tr>\n",
       "    <tr>\n",
       "      <th>1</th>\n",
       "      <td>6000190008475</td>\n",
       "      <td>Tomato, Beefsteak</td>\n",
       "      <td>Sold in singles</td>\n",
       "      <td>$5.46/kg</td>\n",
       "      <td>1.54</td>\n",
       "      <td>https://www.walmart.ca/en/ip/tomato-beefsteak/...</td>\n",
       "    </tr>\n",
       "    <tr>\n",
       "      <th>2</th>\n",
       "      <td>6000198459494</td>\n",
       "      <td>Your Fresh Market Tomatoes on the Vine</td>\n",
       "      <td>Sold in packs</td>\n",
       "      <td></td>\n",
       "      <td>3.24</td>\n",
       "      <td>https://www.walmart.ca/en/ip/your-fresh-market...</td>\n",
       "    </tr>\n",
       "    <tr>\n",
       "      <th>3</th>\n",
       "      <td>6000196006540</td>\n",
       "      <td>Tomato, Grape</td>\n",
       "      <td>1.5 lb Container</td>\n",
       "      <td></td>\n",
       "      <td>5.97</td>\n",
       "      <td>https://www.walmart.ca/en/ip/tomato-grape/6000...</td>\n",
       "    </tr>\n",
       "    <tr>\n",
       "      <th>4</th>\n",
       "      <td>6000196099050</td>\n",
       "      <td>Tomatoes, Organic Grape</td>\n",
       "      <td>283 g</td>\n",
       "      <td></td>\n",
       "      <td>3.47</td>\n",
       "      <td>https://www.walmart.ca/en/ip/tomatoes-organic-...</td>\n",
       "    </tr>\n",
       "  </tbody>\n",
       "</table>\n",
       "</div>"
      ],
      "text/plain": [
       "             sku                                   title       description  \\\n",
       "0  6000191272055                            Tomato, Roma   Sold in singles   \n",
       "1  6000190008475                       Tomato, Beefsteak   Sold in singles   \n",
       "2  6000198459494  Your Fresh Market Tomatoes on the Vine     Sold in packs   \n",
       "3  6000196006540                           Tomato, Grape  1.5 lb Container   \n",
       "4  6000196099050                 Tomatoes, Organic Grape             283 g   \n",
       "\n",
       "  unit_price  price                                               link  \n",
       "0   $6.57/kg   0.94  https://www.walmart.ca/en/ip/tomato-roma/60001...  \n",
       "1   $5.46/kg   1.54  https://www.walmart.ca/en/ip/tomato-beefsteak/...  \n",
       "2              3.24  https://www.walmart.ca/en/ip/your-fresh-market...  \n",
       "3              5.97  https://www.walmart.ca/en/ip/tomato-grape/6000...  \n",
       "4              3.47  https://www.walmart.ca/en/ip/tomatoes-organic-...  "
      ]
     },
     "execution_count": 61,
     "metadata": {},
     "output_type": "execute_result"
    }
   ],
   "source": [
    "df = api.search('tomato')\n",
    "df.head()"
   ]
  },
  {
   "cell_type": "markdown",
   "metadata": {},
   "source": [
    "# Get info for a specific product"
   ]
  },
  {
   "cell_type": "code",
   "execution_count": 62,
   "metadata": {},
   "outputs": [
    {
     "data": {
      "text/plain": [
       "{'name': 'Tomato, Roma',\n",
       " 'description': 'Roma tomato are a popular choice for canning or sauces, since they do not have very many seeds. Their medium sized nature also makes them a popular choice for salads.',\n",
       " 'brand': 'n/a',\n",
       " 'price': 0.94,\n",
       " 'unit_price': '$6.57/1kg',\n",
       " 'categories': ['Grocery',\n",
       "  'Fruits & Vegetables',\n",
       "  'Vegetables',\n",
       "  'Tomato, Roma'],\n",
       " 'Walmart Item #': '30464285',\n",
       " 'SKU': '6000191272055',\n",
       " 'UPC': '20408700000, 4087'}"
      ]
     },
     "execution_count": 62,
     "metadata": {},
     "output_type": "execute_result"
    }
   ],
   "source": [
    "link = 'https://www.walmart.ca/en/ip/tomato-roma/6000191272054'\n",
    "product_info = api.get_product_info(link)\n",
    "product_info"
   ]
  },
  {
   "cell_type": "markdown",
   "metadata": {},
   "source": [
    "# Add a product to the current order"
   ]
  },
  {
   "cell_type": "code",
   "execution_count": null,
   "metadata": {},
   "outputs": [],
   "source": [
    "link = 'https://www.walmart.ca/en/ip/tomato-roma/6000191272054'\n",
    "api.add_product_to_current_order(link, quantity=2)"
   ]
  },
  {
   "cell_type": "markdown",
   "metadata": {},
   "source": [
    "# Get list of previous orders"
   ]
  },
  {
   "cell_type": "code",
   "execution_count": 65,
   "metadata": {},
   "outputs": [
    {
     "data": {
      "text/plain": [
       "'\\n# Not implemented\\n\\ndf_orders = api.get_past_orders_list()\\ndf_orders\\n'"
      ]
     },
     "execution_count": 65,
     "metadata": {},
     "output_type": "execute_result"
    }
   ],
   "source": [
    "\"\"\"\n",
    "# Not implemented\n",
    "\n",
    "df_orders = api.get_past_orders_list()\n",
    "df_orders\n",
    "\"\"\""
   ]
  },
  {
   "cell_type": "markdown",
   "metadata": {},
   "source": [
    "# Get an itemized list of all receipts"
   ]
  },
  {
   "cell_type": "code",
   "execution_count": 66,
   "metadata": {},
   "outputs": [
    {
     "data": {
      "text/plain": [
       "'\\n# Not implemented\\n\\ndf = api.get_itemized_order_history()\\ndf.head()\\n'"
      ]
     },
     "execution_count": 66,
     "metadata": {},
     "output_type": "execute_result"
    }
   ],
   "source": [
    "\"\"\"\n",
    "# Not implemented\n",
    "\n",
    "df = api.get_itemized_order_history()\n",
    "df.head()\n",
    "\"\"\""
   ]
  },
  {
   "cell_type": "markdown",
   "metadata": {},
   "source": [
    "# Get a list of previously purchased products"
   ]
  },
  {
   "cell_type": "code",
   "execution_count": 67,
   "metadata": {},
   "outputs": [
    {
     "data": {
      "text/html": [
       "<div>\n",
       "<style scoped>\n",
       "    .dataframe tbody tr th:only-of-type {\n",
       "        vertical-align: middle;\n",
       "    }\n",
       "\n",
       "    .dataframe tbody tr th {\n",
       "        vertical-align: top;\n",
       "    }\n",
       "\n",
       "    .dataframe thead th {\n",
       "        text-align: right;\n",
       "    }\n",
       "</style>\n",
       "<table border=\"1\" class=\"dataframe\">\n",
       "  <thead>\n",
       "    <tr style=\"text-align: right;\">\n",
       "      <th></th>\n",
       "    </tr>\n",
       "  </thead>\n",
       "  <tbody>\n",
       "  </tbody>\n",
       "</table>\n",
       "</div>"
      ],
      "text/plain": [
       "Empty DataFrame\n",
       "Columns: []\n",
       "Index: []"
      ]
     },
     "execution_count": 67,
     "metadata": {},
     "output_type": "execute_result"
    }
   ],
   "source": [
    "df_products = api.get_product_list()\n",
    "df_products.head()"
   ]
  }
 ],
 "metadata": {
  "kernelspec": {
   "display_name": "Python 3",
   "language": "python",
   "name": "python3"
  },
  "language_info": {
   "codemirror_mode": {
    "name": "ipython",
    "version": 3
   },
   "file_extension": ".py",
   "mimetype": "text/x-python",
   "name": "python",
   "nbconvert_exporter": "python",
   "pygments_lexer": "ipython3",
   "version": "3.7.6"
  }
 },
 "nbformat": 4,
 "nbformat_minor": 4
}
